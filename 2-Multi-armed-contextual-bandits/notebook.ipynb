{
 "cells": [
  {
   "cell_type": "markdown",
   "metadata": {
    "colab_type": "text",
    "id": "D6UKf-C2JyWe"
   },
   "source": [
    "## Imports des librairies et autres réjouissances"
   ]
  },
  {
   "cell_type": "code",
   "execution_count": null,
   "metadata": {
    "colab": {},
    "colab_type": "code",
    "id": "4-ujTmP5g07R"
   },
   "outputs": [],
   "source": [
    "# Pour que les changements dans les modules importés soient pris en compte\n",
    "%load_ext autoreload\n",
    "%autoreload 2\n",
    "# Pour afficher les figures dans le notebook\n",
    "%matplotlib inline"
   ]
  },
  {
   "cell_type": "code",
   "execution_count": null,
   "metadata": {
    "colab": {},
    "colab_type": "code",
    "id": "T1Q8kV2NJXx1"
   },
   "outputs": [],
   "source": [
    "# librairies\n",
    "import os\n",
    "import numpy as np\n",
    "import matplotlib.pyplot as plt"
   ]
  },
  {
   "cell_type": "code",
   "execution_count": null,
   "metadata": {
    "colab": {},
    "colab_type": "code",
    "id": "eIFTUWTfJabc"
   },
   "outputs": [],
   "source": [
    "# Changement des paramètres d'affichage par défaut\n",
    "#import matplotlib as mpl\n",
    "#mpl.rcParams['figure.figsize'] = 20, 10\n",
    "#mpl.rcParams['lines.linewidth'] = 4\n",
    "#mpl.rcParams['font.size'] = 24\n",
    "#mpl.rcParams['lines.markersize'] = 15\n",
    "#mpl.rcParams.find_all('')"
   ]
  },
  {
   "cell_type": "code",
   "execution_count": 4,
   "metadata": {
    "colab": {
     "base_uri": "https://localhost:8080/",
     "height": 179
    },
    "colab_type": "code",
    "executionInfo": {
     "elapsed": 9281,
     "status": "ok",
     "timestamp": 1575899626305,
     "user": {
      "displayName": "Hippolyte Debernardi",
      "photoUrl": "https://lh3.googleusercontent.com/a-/AAuE7mCJToxYvO9hialrA4ipZM8MXcgoEz5eBwK_PLy_yA=s64",
      "userId": "00537453753370429486"
     },
     "user_tz": -60
    },
    "id": "WgxI3Dm7Jb8i",
    "outputId": "cbd1debc-9a89-4ad2-c0f4-177b0aabdd2b"
   },
   "outputs": [
    {
     "name": "stdout",
     "output_type": "stream",
     "text": [
      "Collecting ipython-autotime\n",
      "  Downloading https://files.pythonhosted.org/packages/e6/f9/0626bbdb322e3a078d968e87e3b01341e7890544de891d0cb613641220e6/ipython-autotime-0.1.tar.bz2\n",
      "Building wheels for collected packages: ipython-autotime\n",
      "  Building wheel for ipython-autotime (setup.py) ... \u001b[?25l\u001b[?25hdone\n",
      "  Created wheel for ipython-autotime: filename=ipython_autotime-0.1-cp36-none-any.whl size=1832 sha256=d4357fe26b2c487ff3dc2912839f7285614ac454210990986aac6d299b593683\n",
      "  Stored in directory: /root/.cache/pip/wheels/d2/df/81/2db1e54bc91002cec40334629bc39cfa86dff540b304ebcd6e\n",
      "Successfully built ipython-autotime\n",
      "Installing collected packages: ipython-autotime\n",
      "Successfully installed ipython-autotime-0.1\n"
     ]
    }
   ],
   "source": [
    "# permet d'obtenir le temps d'exécution de chacune des cellules du notebook\n",
    "!pip install ipython-autotime\n",
    "%load_ext autotime"
   ]
  },
  {
   "cell_type": "code",
   "execution_count": 5,
   "metadata": {
    "colab": {
     "base_uri": "https://localhost:8080/",
     "height": 145
    },
    "colab_type": "code",
    "executionInfo": {
     "elapsed": 31584,
     "status": "ok",
     "timestamp": 1575899648613,
     "user": {
      "displayName": "Hippolyte Debernardi",
      "photoUrl": "https://lh3.googleusercontent.com/a-/AAuE7mCJToxYvO9hialrA4ipZM8MXcgoEz5eBwK_PLy_yA=s64",
      "userId": "00537453753370429486"
     },
     "user_tz": -60
    },
    "id": "GgbrJJF4g-vb",
    "outputId": "428b0a3a-2805-4608-9a38-f85a46052aa6"
   },
   "outputs": [
    {
     "name": "stdout",
     "output_type": "stream",
     "text": [
      "Go to this URL in a browser: https://accounts.google.com/o/oauth2/auth?client_id=947318989803-6bn6qk8qdgf4n4g3pfee6491hc0brc4i.apps.googleusercontent.com&redirect_uri=urn%3aietf%3awg%3aoauth%3a2.0%3aoob&response_type=code&scope=email%20https%3a%2f%2fwww.googleapis.com%2fauth%2fdocs.test%20https%3a%2f%2fwww.googleapis.com%2fauth%2fdrive%20https%3a%2f%2fwww.googleapis.com%2fauth%2fdrive.photos.readonly%20https%3a%2f%2fwww.googleapis.com%2fauth%2fpeopleapi.readonly\n",
      "\n",
      "Enter your authorization code:\n",
      "··········\n",
      "Mounted at drive\n",
      "time: 22.1 s\n"
     ]
    }
   ],
   "source": [
    "from google.colab import drive\n",
    "drive.mount('drive')\n",
    "os.chdir('drive/My Drive/univ/master-2/reinforcement-learning')\n",
    "from bandits_contextuels import *"
   ]
  },
  {
   "cell_type": "markdown",
   "metadata": {
    "colab_type": "text",
    "id": "3JFhapd6JshP"
   },
   "source": [
    "## On définit une fonction pour simuler le fonctionnement de l'algorithme"
   ]
  },
  {
   "cell_type": "code",
   "execution_count": 30,
   "metadata": {
    "colab": {
     "base_uri": "https://localhost:8080/",
     "height": 35
    },
    "colab_type": "code",
    "executionInfo": {
     "elapsed": 580,
     "status": "ok",
     "timestamp": 1575903121207,
     "user": {
      "displayName": "Hippolyte Debernardi",
      "photoUrl": "https://lh3.googleusercontent.com/a-/AAuE7mCJToxYvO9hialrA4ipZM8MXcgoEz5eBwK_PLy_yA=s64",
      "userId": "00537453753370429486"
     },
     "user_tz": -60
    },
    "id": "YzX3YK6-hJlp",
    "outputId": "3ec3257f-8c73-4b49-83d7-38ec7c16694c"
   },
   "outputs": [
    {
     "name": "stdout",
     "output_type": "stream",
     "text": [
      "time: 16.5 ms\n"
     ]
    }
   ],
   "source": [
    "def run_algo(n_iterations, bandit, algorithm):\n",
    "    rewards = np.empty(n_iterations)\n",
    "    max_rewards = np.empty(n_iterations)\n",
    "\n",
    "    for iteration in range(n_iterations):\n",
    "        # ---\n",
    "        # (1) Observation d'un contexte\n",
    "        # (2) Choix du bras par l'algo en fct du contexte\n",
    "        # (3) Récompense obtenue en fct du bras choisi et du contexte\n",
    "        # (4) Mise à jour en fct du contexte, du bras et de la récompense\n",
    "        # ---\n",
    "        context = bandit.get_context()\n",
    "        idx_arm = algorithm.get_action(context)\n",
    "        reward = bandit.step(idx_arm, context)\n",
    "        algorithm.fit_step(action=idx_arm, reward=reward, x=context)\n",
    "\n",
    "        # mise à jour des compteurs\n",
    "        # la récompense maximale suit un modèle linéaire\n",
    "        rewards[iteration] = reward\n",
    "        max_rewards[iteration] = np.max(context.T @ bandit._theta)\n",
    "\n",
    "    # récompenses maximale et réelle cumulées \n",
    "    cum_reward = np.cumsum(rewards)\n",
    "    cum_max_reward = np.cumsum(max_rewards)\n",
    "\n",
    "    # le regret correspond à la différence entre la décision prise pour\n",
    "    # un contexte donné et la meilleure décision possible pour ce contexte\n",
    "    regret = cum_max_reward - cum_reward\n",
    "\n",
    "    return regret\n",
    "\n",
    "def run_algo_n(n_simulations, n_iterations, bandit, algorithm):\n",
    "    regret = 0\n",
    "    for _ in range(n_simulations):\n",
    "        regret += (run_algo(n_iterations, bandit, algorithm) / n_simulations)\n",
    "    \n",
    "    return regret"
   ]
  },
  {
   "cell_type": "markdown",
   "metadata": {
    "colab_type": "text",
    "id": "ArmxgSyRhVEL"
   },
   "source": [
    "## On définit une fonction pour afficher les performances des stratégies"
   ]
  },
  {
   "cell_type": "code",
   "execution_count": 31,
   "metadata": {
    "colab": {
     "base_uri": "https://localhost:8080/",
     "height": 35
    },
    "colab_type": "code",
    "executionInfo": {
     "elapsed": 453,
     "status": "ok",
     "timestamp": 1575903122863,
     "user": {
      "displayName": "Hippolyte Debernardi",
      "photoUrl": "https://lh3.googleusercontent.com/a-/AAuE7mCJToxYvO9hialrA4ipZM8MXcgoEz5eBwK_PLy_yA=s64",
      "userId": "00537453753370429486"
     },
     "user_tz": -60
    },
    "id": "OxMg8LUihMxx",
    "outputId": "576d4382-3cd7-4b44-fc87-b0d2e27ab760"
   },
   "outputs": [
    {
     "name": "stdout",
     "output_type": "stream",
     "text": [
      "time: 2.06 ms\n"
     ]
    }
   ],
   "source": [
    "def display_regret(regrets):\n",
    "    plt.xlabel('Iterations')\n",
    "    plt.ylabel('Regret')\n",
    "    plt.semilogx(regrets)\n",
    "    plt.grid()\n",
    "    plt.show()"
   ]
  },
  {
   "cell_type": "markdown",
   "metadata": {
    "colab_type": "text",
    "id": "KofLs7GTK6ey"
   },
   "source": [
    "## Variables globales"
   ]
  },
  {
   "cell_type": "code",
   "execution_count": 37,
   "metadata": {
    "colab": {
     "base_uri": "https://localhost:8080/",
     "height": 35
    },
    "colab_type": "code",
    "executionInfo": {
     "elapsed": 916,
     "status": "ok",
     "timestamp": 1575903390356,
     "user": {
      "displayName": "Hippolyte Debernardi",
      "photoUrl": "https://lh3.googleusercontent.com/a-/AAuE7mCJToxYvO9hialrA4ipZM8MXcgoEz5eBwK_PLy_yA=s64",
      "userId": "00537453753370429486"
     },
     "user_tz": -60
    },
    "id": "ybfizZG8K5vq",
    "outputId": "d1c4e7b8-64c7-4b2e-a3bb-d71952d7b8b7"
   },
   "outputs": [
    {
     "name": "stdout",
     "output_type": "stream",
     "text": [
      "time: 2.73 ms\n"
     ]
    }
   ],
   "source": [
    "N_ARMS = 30\n",
    "N_FEATURES = 10\n",
    "DELTA = 0.5\n",
    "N_ITERATIONS = 1000\n",
    "\n",
    "BANDIT = LinearBandits(N_ARMS, N_FEATURES)"
   ]
  },
  {
   "cell_type": "markdown",
   "metadata": {
    "colab_type": "text",
    "id": "dk5qyeVKKn3e"
   },
   "source": [
    "## Simulation LinUCB sans optimisation"
   ]
  },
  {
   "cell_type": "code",
   "execution_count": 38,
   "metadata": {
    "colab": {
     "base_uri": "https://localhost:8080/",
     "height": 301
    },
    "colab_type": "code",
    "executionInfo": {
     "elapsed": 3300,
     "status": "ok",
     "timestamp": 1575903400177,
     "user": {
      "displayName": "Hippolyte Debernardi",
      "photoUrl": "https://lh3.googleusercontent.com/a-/AAuE7mCJToxYvO9hialrA4ipZM8MXcgoEz5eBwK_PLy_yA=s64",
      "userId": "00537453753370429486"
     },
     "user_tz": -60
    },
    "id": "cEmIEv8zoicG",
    "outputId": "7efa27b6-e191-4c42-f04b-65fcc405ac6c"
   },
   "outputs": [
    {
     "data": {
      "image/png": "[encoded data removed]",
      "text/plain": [
       "<Figure size 432x288 with 1 Axes>"
      ]
     },
     "metadata": {
      "tags": []
     },
     "output_type": "display_data"
    },
    {
     "name": "stdout",
     "output_type": "stream",
     "text": [
      "time: 2.48 s\n"
     ]
    }
   ],
   "source": [
    "algo_base = LinUCBAlgorithm(N_ARMS, N_FEATURES, DELTA)\n",
    "regret_base = run_algo_n(1, N_ITERATIONS, BANDIT, algo_base)\n",
    "display_regret(regret_base)"
   ]
  },
  {
   "cell_type": "markdown",
   "metadata": {
    "colab_type": "text",
    "id": "gAObjKAGKwrf"
   },
   "source": [
    "## Simulation LinUCB avec optimisation"
   ]
  },
  {
   "cell_type": "code",
   "execution_count": 43,
   "metadata": {
    "colab": {
     "base_uri": "https://localhost:8080/",
     "height": 301
    },
    "colab_type": "code",
    "executionInfo": {
     "elapsed": 1946,
     "status": "ok",
     "timestamp": 1575904010075,
     "user": {
      "displayName": "Hippolyte Debernardi",
      "photoUrl": "https://lh3.googleusercontent.com/a-/AAuE7mCJToxYvO9hialrA4ipZM8MXcgoEz5eBwK_PLy_yA=s64",
      "userId": "00537453753370429486"
     },
     "user_tz": -60
    },
    "id": "SnoD5k7lJng4",
    "outputId": "f493fac7-7310-480f-9790-f073f2c4dfc1"
   },
   "outputs": [
    {
     "data": {
      "image/png": "[encoded data removed]",
      "text/plain": [
       "<Figure size 432x288 with 1 Axes>"
      ]
     },
     "metadata": {
      "tags": []
     },
     "output_type": "display_data"
    },
    {
     "name": "stdout",
     "output_type": "stream",
     "text": [
      "time: 921 ms\n"
     ]
    }
   ],
   "source": [
    "algo_optim = LinUCBAlgorithmOptimized(N_ARMS, N_FEATURES, DELTA)\n",
    "regret_optim = run_algo_n(1, N_ITERATIONS, BANDIT, algo_optim)\n",
    "display_regret(regret_optim)"
   ]
  },
  {
   "cell_type": "code",
   "execution_count": null,
   "metadata": {
    "colab": {},
    "colab_type": "code",
    "id": "iev0s-RkMLPW"
   },
   "outputs": [],
   "source": []
  }
 ],
 "metadata": {
  "colab": {
   "collapsed_sections": [],
   "name": "AR_2_DEBERNARDI-bandits-contextuels.ipynb",
   "provenance": []
  },
  "kernelspec": {
   "display_name": "Python 3",
   "language": "python",
   "name": "python3"
  },
  "language_info": {
   "codemirror_mode": {
    "name": "ipython",
    "version": 3
   },
   "file_extension": ".py",
   "mimetype": "text/x-python",
   "name": "python",
   "nbconvert_exporter": "python",
   "pygments_lexer": "ipython3",
   "version": "3.7.6"
  }
 },
 "nbformat": 4,
 "nbformat_minor": 4
}
